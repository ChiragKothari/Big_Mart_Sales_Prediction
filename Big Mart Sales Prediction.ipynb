{
 "cells": [
  {
   "cell_type": "markdown",
   "metadata": {},
   "source": [
    "# Problem Statement\n",
    "\n",
    "The data scientists at BigMart have collected 2013 sales data for 1559 products across 10 stores in different cities. Also, certain attributes of each product and store have been defined. The aim is to build a predictive model and find out the sales of each product at a particular store.\n",
    "\n",
    "Using this model, BigMart will try to understand the properties of products and stores which play a key role in increasing sales.\n",
    "\n",
    "Dataset : https://datahack.analyticsvidhya.com/contest/practice-problem-big-mart-sales-iii/"
   ]
  },
  {
   "cell_type": "code",
   "execution_count": 1,
   "metadata": {},
   "outputs": [],
   "source": [
    "import numpy as np\n",
    "import pandas as pd\n",
    "import matplotlib.pyplot as plt\n",
    "from sklearn.model_selection import cross_val_score"
   ]
  },
  {
   "cell_type": "code",
   "execution_count": 2,
   "metadata": {},
   "outputs": [
    {
     "data": {
      "text/html": [
       "<div>\n",
       "<style scoped>\n",
       "    .dataframe tbody tr th:only-of-type {\n",
       "        vertical-align: middle;\n",
       "    }\n",
       "\n",
       "    .dataframe tbody tr th {\n",
       "        vertical-align: top;\n",
       "    }\n",
       "\n",
       "    .dataframe thead th {\n",
       "        text-align: right;\n",
       "    }\n",
       "</style>\n",
       "<table border=\"1\" class=\"dataframe\">\n",
       "  <thead>\n",
       "    <tr style=\"text-align: right;\">\n",
       "      <th></th>\n",
       "      <th>Item_Fat_Content</th>\n",
       "      <th>Item_Identifier</th>\n",
       "      <th>Item_MRP</th>\n",
       "      <th>Item_Outlet_Sales</th>\n",
       "      <th>Item_Type</th>\n",
       "      <th>Item_Visibility</th>\n",
       "      <th>Item_Weight</th>\n",
       "      <th>Outlet_Establishment_Year</th>\n",
       "      <th>Outlet_Identifier</th>\n",
       "      <th>Outlet_Location_Type</th>\n",
       "      <th>Outlet_Size</th>\n",
       "      <th>Outlet_Type</th>\n",
       "      <th>common</th>\n",
       "    </tr>\n",
       "  </thead>\n",
       "  <tbody>\n",
       "    <tr>\n",
       "      <th>0</th>\n",
       "      <td>Low Fat</td>\n",
       "      <td>FDA15</td>\n",
       "      <td>249.8092</td>\n",
       "      <td>3735.1380</td>\n",
       "      <td>Dairy</td>\n",
       "      <td>0.016047</td>\n",
       "      <td>9.30</td>\n",
       "      <td>1999</td>\n",
       "      <td>OUT049</td>\n",
       "      <td>Tier 1</td>\n",
       "      <td>Medium</td>\n",
       "      <td>Supermarket Type1</td>\n",
       "      <td>train</td>\n",
       "    </tr>\n",
       "    <tr>\n",
       "      <th>1</th>\n",
       "      <td>Regular</td>\n",
       "      <td>DRC01</td>\n",
       "      <td>48.2692</td>\n",
       "      <td>443.4228</td>\n",
       "      <td>Soft Drinks</td>\n",
       "      <td>0.019278</td>\n",
       "      <td>5.92</td>\n",
       "      <td>2009</td>\n",
       "      <td>OUT018</td>\n",
       "      <td>Tier 3</td>\n",
       "      <td>Medium</td>\n",
       "      <td>Supermarket Type2</td>\n",
       "      <td>train</td>\n",
       "    </tr>\n",
       "    <tr>\n",
       "      <th>2</th>\n",
       "      <td>Low Fat</td>\n",
       "      <td>FDN15</td>\n",
       "      <td>141.6180</td>\n",
       "      <td>2097.2700</td>\n",
       "      <td>Meat</td>\n",
       "      <td>0.016760</td>\n",
       "      <td>17.50</td>\n",
       "      <td>1999</td>\n",
       "      <td>OUT049</td>\n",
       "      <td>Tier 1</td>\n",
       "      <td>Medium</td>\n",
       "      <td>Supermarket Type1</td>\n",
       "      <td>train</td>\n",
       "    </tr>\n",
       "    <tr>\n",
       "      <th>3</th>\n",
       "      <td>Regular</td>\n",
       "      <td>FDX07</td>\n",
       "      <td>182.0950</td>\n",
       "      <td>732.3800</td>\n",
       "      <td>Fruits and Vegetables</td>\n",
       "      <td>0.000000</td>\n",
       "      <td>19.20</td>\n",
       "      <td>1998</td>\n",
       "      <td>OUT010</td>\n",
       "      <td>Tier 3</td>\n",
       "      <td>NaN</td>\n",
       "      <td>Grocery Store</td>\n",
       "      <td>train</td>\n",
       "    </tr>\n",
       "    <tr>\n",
       "      <th>4</th>\n",
       "      <td>Low Fat</td>\n",
       "      <td>NCD19</td>\n",
       "      <td>53.8614</td>\n",
       "      <td>994.7052</td>\n",
       "      <td>Household</td>\n",
       "      <td>0.000000</td>\n",
       "      <td>8.93</td>\n",
       "      <td>1987</td>\n",
       "      <td>OUT013</td>\n",
       "      <td>Tier 3</td>\n",
       "      <td>High</td>\n",
       "      <td>Supermarket Type1</td>\n",
       "      <td>train</td>\n",
       "    </tr>\n",
       "  </tbody>\n",
       "</table>\n",
       "</div>"
      ],
      "text/plain": [
       "  Item_Fat_Content Item_Identifier  Item_MRP  Item_Outlet_Sales  \\\n",
       "0          Low Fat           FDA15  249.8092          3735.1380   \n",
       "1          Regular           DRC01   48.2692           443.4228   \n",
       "2          Low Fat           FDN15  141.6180          2097.2700   \n",
       "3          Regular           FDX07  182.0950           732.3800   \n",
       "4          Low Fat           NCD19   53.8614           994.7052   \n",
       "\n",
       "               Item_Type  Item_Visibility  Item_Weight  \\\n",
       "0                  Dairy         0.016047         9.30   \n",
       "1            Soft Drinks         0.019278         5.92   \n",
       "2                   Meat         0.016760        17.50   \n",
       "3  Fruits and Vegetables         0.000000        19.20   \n",
       "4              Household         0.000000         8.93   \n",
       "\n",
       "   Outlet_Establishment_Year Outlet_Identifier Outlet_Location_Type  \\\n",
       "0                       1999            OUT049               Tier 1   \n",
       "1                       2009            OUT018               Tier 3   \n",
       "2                       1999            OUT049               Tier 1   \n",
       "3                       1998            OUT010               Tier 3   \n",
       "4                       1987            OUT013               Tier 3   \n",
       "\n",
       "  Outlet_Size        Outlet_Type common  \n",
       "0      Medium  Supermarket Type1  train  \n",
       "1      Medium  Supermarket Type2  train  \n",
       "2      Medium  Supermarket Type1  train  \n",
       "3         NaN      Grocery Store  train  \n",
       "4        High  Supermarket Type1  train  "
      ]
     },
     "execution_count": 2,
     "metadata": {},
     "output_type": "execute_result"
    }
   ],
   "source": [
    "train = pd.read_csv(\"D:\\CHIRAG\\Analytics Vidhya Hackathon\\Big Mart Sales\\Train_UWu5bXk.csv\")\n",
    "train['common'] = 'train'\n",
    "test = pd.read_csv(\"D:\\CHIRAG\\Analytics Vidhya Hackathon\\Big Mart Sales\\Test_u94Q5KV.csv\")\n",
    "test['common'] = 'test'\n",
    "data = pd.concat([train, test], ignore_index = True)\n",
    "data.head()"
   ]
  },
  {
   "cell_type": "code",
   "execution_count": 3,
   "metadata": {},
   "outputs": [
    {
     "data": {
      "text/plain": [
       "Index(['Item_Fat_Content', 'Item_Identifier', 'Item_MRP', 'Item_Outlet_Sales',\n",
       "       'Item_Type', 'Item_Visibility', 'Item_Weight',\n",
       "       'Outlet_Establishment_Year', 'Outlet_Identifier',\n",
       "       'Outlet_Location_Type', 'Outlet_Size', 'Outlet_Type', 'common'],\n",
       "      dtype='object')"
      ]
     },
     "execution_count": 3,
     "metadata": {},
     "output_type": "execute_result"
    }
   ],
   "source": [
    "data.columns"
   ]
  },
  {
   "cell_type": "code",
   "execution_count": 4,
   "metadata": {},
   "outputs": [
    {
     "data": {
      "text/html": [
       "<div>\n",
       "<style scoped>\n",
       "    .dataframe tbody tr th:only-of-type {\n",
       "        vertical-align: middle;\n",
       "    }\n",
       "\n",
       "    .dataframe tbody tr th {\n",
       "        vertical-align: top;\n",
       "    }\n",
       "\n",
       "    .dataframe thead th {\n",
       "        text-align: right;\n",
       "    }\n",
       "</style>\n",
       "<table border=\"1\" class=\"dataframe\">\n",
       "  <thead>\n",
       "    <tr style=\"text-align: right;\">\n",
       "      <th></th>\n",
       "      <th>Item_MRP</th>\n",
       "      <th>Item_Outlet_Sales</th>\n",
       "      <th>Item_Visibility</th>\n",
       "      <th>Item_Weight</th>\n",
       "      <th>Outlet_Establishment_Year</th>\n",
       "    </tr>\n",
       "  </thead>\n",
       "  <tbody>\n",
       "    <tr>\n",
       "      <th>count</th>\n",
       "      <td>14204.000000</td>\n",
       "      <td>8523.000000</td>\n",
       "      <td>14204.000000</td>\n",
       "      <td>11765.000000</td>\n",
       "      <td>14204.000000</td>\n",
       "    </tr>\n",
       "    <tr>\n",
       "      <th>mean</th>\n",
       "      <td>141.004977</td>\n",
       "      <td>2181.288914</td>\n",
       "      <td>0.065953</td>\n",
       "      <td>12.792854</td>\n",
       "      <td>1997.830681</td>\n",
       "    </tr>\n",
       "    <tr>\n",
       "      <th>std</th>\n",
       "      <td>62.086938</td>\n",
       "      <td>1706.499616</td>\n",
       "      <td>0.051459</td>\n",
       "      <td>4.652502</td>\n",
       "      <td>8.371664</td>\n",
       "    </tr>\n",
       "    <tr>\n",
       "      <th>min</th>\n",
       "      <td>31.290000</td>\n",
       "      <td>33.290000</td>\n",
       "      <td>0.000000</td>\n",
       "      <td>4.555000</td>\n",
       "      <td>1985.000000</td>\n",
       "    </tr>\n",
       "    <tr>\n",
       "      <th>25%</th>\n",
       "      <td>94.012000</td>\n",
       "      <td>834.247400</td>\n",
       "      <td>0.027036</td>\n",
       "      <td>8.710000</td>\n",
       "      <td>1987.000000</td>\n",
       "    </tr>\n",
       "    <tr>\n",
       "      <th>50%</th>\n",
       "      <td>142.247000</td>\n",
       "      <td>1794.331000</td>\n",
       "      <td>0.054021</td>\n",
       "      <td>12.600000</td>\n",
       "      <td>1999.000000</td>\n",
       "    </tr>\n",
       "    <tr>\n",
       "      <th>75%</th>\n",
       "      <td>185.855600</td>\n",
       "      <td>3101.296400</td>\n",
       "      <td>0.094037</td>\n",
       "      <td>16.750000</td>\n",
       "      <td>2004.000000</td>\n",
       "    </tr>\n",
       "    <tr>\n",
       "      <th>max</th>\n",
       "      <td>266.888400</td>\n",
       "      <td>13086.964800</td>\n",
       "      <td>0.328391</td>\n",
       "      <td>21.350000</td>\n",
       "      <td>2009.000000</td>\n",
       "    </tr>\n",
       "  </tbody>\n",
       "</table>\n",
       "</div>"
      ],
      "text/plain": [
       "           Item_MRP  Item_Outlet_Sales  Item_Visibility   Item_Weight  \\\n",
       "count  14204.000000        8523.000000     14204.000000  11765.000000   \n",
       "mean     141.004977        2181.288914         0.065953     12.792854   \n",
       "std       62.086938        1706.499616         0.051459      4.652502   \n",
       "min       31.290000          33.290000         0.000000      4.555000   \n",
       "25%       94.012000         834.247400         0.027036      8.710000   \n",
       "50%      142.247000        1794.331000         0.054021     12.600000   \n",
       "75%      185.855600        3101.296400         0.094037     16.750000   \n",
       "max      266.888400       13086.964800         0.328391     21.350000   \n",
       "\n",
       "       Outlet_Establishment_Year  \n",
       "count               14204.000000  \n",
       "mean                 1997.830681  \n",
       "std                     8.371664  \n",
       "min                  1985.000000  \n",
       "25%                  1987.000000  \n",
       "50%                  1999.000000  \n",
       "75%                  2004.000000  \n",
       "max                  2009.000000  "
      ]
     },
     "execution_count": 4,
     "metadata": {},
     "output_type": "execute_result"
    }
   ],
   "source": [
    "data.describe()"
   ]
  },
  {
   "cell_type": "markdown",
   "metadata": {},
   "source": [
    "Note: Here item visibility has minimum value of 0. Now that's not possible. So it needs to be corrected. Lets look further into the data"
   ]
  },
  {
   "cell_type": "code",
   "execution_count": 5,
   "metadata": {},
   "outputs": [
    {
     "data": {
      "text/plain": [
       "Item_Fat_Content                 5\n",
       "Item_Identifier               1559\n",
       "Item_MRP                      8052\n",
       "Item_Outlet_Sales             3494\n",
       "Item_Type                       16\n",
       "Item_Visibility              13006\n",
       "Item_Weight                    416\n",
       "Outlet_Establishment_Year        9\n",
       "Outlet_Identifier               10\n",
       "Outlet_Location_Type             3\n",
       "Outlet_Size                      4\n",
       "Outlet_Type                      4\n",
       "common                           2\n",
       "dtype: int64"
      ]
     },
     "execution_count": 5,
     "metadata": {},
     "output_type": "execute_result"
    }
   ],
   "source": [
    "data.apply(lambda x: len(x.unique()))"
   ]
  },
  {
   "cell_type": "markdown",
   "metadata": {},
   "source": [
    "We will try to reduce the number of unique values in variables where it is possible."
   ]
  },
  {
   "cell_type": "markdown",
   "metadata": {},
   "source": [
    "## Data Cleaning"
   ]
  },
  {
   "cell_type": "code",
   "execution_count": 6,
   "metadata": {},
   "outputs": [
    {
     "name": "stdout",
     "output_type": "stream",
     "text": [
      "['Low Fat' 'Regular' 'low fat' 'LF' 'reg']\n",
      "['Low Fat' 'Regular']\n"
     ]
    }
   ],
   "source": [
    "#Correct Item_Fat_Content variable\n",
    "print(data.Item_Fat_Content.unique())\n",
    "#data.Item_Fat_Content = data.Item_Fat_Content.str.upper()\n",
    "data.Item_Fat_Content = data.Item_Fat_Content.replace({'low fat' : 'Low Fat', 'LF': 'Low Fat', 'reg': 'Regular'})\n",
    "print(data.Item_Fat_Content.unique())"
   ]
  },
  {
   "cell_type": "markdown",
   "metadata": {},
   "source": [
    "### Handling missing data"
   ]
  },
  {
   "cell_type": "code",
   "execution_count": 7,
   "metadata": {},
   "outputs": [
    {
     "data": {
      "text/plain": [
       "Item_Fat_Content                0\n",
       "Item_Identifier                 0\n",
       "Item_MRP                        0\n",
       "Item_Outlet_Sales            5681\n",
       "Item_Type                       0\n",
       "Item_Visibility                 0\n",
       "Item_Weight                  2439\n",
       "Outlet_Establishment_Year       0\n",
       "Outlet_Identifier               0\n",
       "Outlet_Location_Type            0\n",
       "Outlet_Size                  4016\n",
       "Outlet_Type                     0\n",
       "common                          0\n",
       "dtype: int64"
      ]
     },
     "execution_count": 7,
     "metadata": {},
     "output_type": "execute_result"
    }
   ],
   "source": [
    "data.isnull().sum()"
   ]
  },
  {
   "cell_type": "markdown",
   "metadata": {},
   "source": [
    "###### Item_Weight"
   ]
  },
  {
   "cell_type": "code",
   "execution_count": 8,
   "metadata": {},
   "outputs": [
    {
     "name": "stdout",
     "output_type": "stream",
     "text": [
      "Item_Weight missing values = 0\n"
     ]
    }
   ],
   "source": [
    "#Determine the average weight per item:\n",
    "item_avg_weight = data.pivot_table(values = 'Item_Weight', index = 'Item_Identifier', aggfunc = 'mean')\n",
    "#Fill missing item_weight values of each item with the item's average weight (based om Item_Identifier)\n",
    "miss_bool = data.Item_Weight.isnull()\n",
    "data.loc[miss_bool, 'Item_Weight'] = data.loc[miss_bool,'Item_Identifier'].apply(lambda x: item_avg_weight[item_avg_weight.index == x].Item_Weight.values[0])\n",
    "print(\"Item_Weight missing values =\", data.Item_Weight.isnull().sum()) "
   ]
  },
  {
   "cell_type": "markdown",
   "metadata": {},
   "source": [
    "###### Outlet_Size"
   ]
  },
  {
   "cell_type": "code",
   "execution_count": 9,
   "metadata": {},
   "outputs": [
    {
     "data": {
      "text/plain": [
       "array(['Supermarket Type1', 'Supermarket Type2', 'Grocery Store',\n",
       "       'Supermarket Type3'], dtype=object)"
      ]
     },
     "execution_count": 9,
     "metadata": {},
     "output_type": "execute_result"
    }
   ],
   "source": [
    "data.Outlet_Type.unique()"
   ]
  },
  {
   "cell_type": "code",
   "execution_count": 10,
   "metadata": {},
   "outputs": [
    {
     "name": "stdout",
     "output_type": "stream",
     "text": [
      "Supermarket Type1 : ['Medium' 'High' nan 'Small']\n",
      "Supermarket Type2 : ['Medium']\n",
      "Grocery Store : [nan 'Small']\n",
      "Supermarket Type3 : ['Medium']\n",
      "\n",
      "[nan 'Small']\n"
     ]
    }
   ],
   "source": [
    "#Only Supermarket type1 and grocery store contain nan values.\n",
    "for i in data.Outlet_Type.unique():\n",
    "    print(i,':', data.loc[data.Outlet_Type == i].Outlet_Size.unique())\n",
    "print()\n",
    "#Further looking at Supermarket type1, it is found that location with type tier 2 has small and missing values\n",
    "print(((data.loc[data.Outlet_Type == 'Supermarket Type1']).loc[data.Outlet_Location_Type == 'Tier 2']).Outlet_Size.unique())"
   ]
  },
  {
   "cell_type": "code",
   "execution_count": 11,
   "metadata": {},
   "outputs": [
    {
     "name": "stdout",
     "output_type": "stream",
     "text": [
      "Outlet_Size missing values = 0\n"
     ]
    }
   ],
   "source": [
    "#So, replace missing values by Small in both grocery store as well as in Supermarket type1 with tier 2\n",
    "data.Outlet_Size = data.Outlet_Size.fillna('Small')\n",
    "print(\"Outlet_Size missing values =\", data.Outlet_Size.isnull().sum())"
   ]
  },
  {
   "cell_type": "markdown",
   "metadata": {},
   "source": [
    "###### Item_Visibility\n",
    "Item_Visibility has 879 0 values which is practically not possible. So replace thode zero values."
   ]
  },
  {
   "cell_type": "code",
   "execution_count": 12,
   "metadata": {
    "scrolled": true
   },
   "outputs": [
    {
     "name": "stdout",
     "output_type": "stream",
     "text": [
      "Initial total number of Item_Visibilty=0 is = 879\n",
      "Now total number of Item_Visibilty with nan values = 239\n"
     ]
    }
   ],
   "source": [
    "#First try to put average values of product visibilty based on item identifier and outlet type\n",
    "print(\"Initial total number of Item_Visibilty=0 is =\", sum(data.Item_Visibility == 0))\n",
    "\n",
    "#First replace 0 values with nan values because they will lower the mean visibility of product\n",
    "data['Item_Visibility'] = np.where(data.Item_Visibility == 0, np.nan, data.Item_Visibility)\n",
    "#Determine average visibility of a product\n",
    "visibility_avg = data.pivot_table(values='Item_Visibility', index=['Item_Identifier', 'Outlet_Type'])\n",
    "\n",
    "#Impute nan values with mean visibility of that product based on item identifier and outlet type:\n",
    "miss_bool = data.Item_Visibility.isnull()\n",
    "data.loc[miss_bool, \"Item_Visibility\"] = data.loc[miss_bool, ['Item_Identifier', 'Outlet_Type']].apply(lambda x: visibility_avg.loc[(visibility_avg.index.get_level_values('Item_Identifier') == x.Item_Identifier) & (visibility_avg.index.get_level_values('Outlet_Type') == x.Outlet_Type)].Item_Visibility.values[0], axis = 1)\n",
    "print(\"Now total number of Item_Visibilty with nan values =\", sum(data.Item_Visibility.isnull()))"
   ]
  },
  {
   "cell_type": "markdown",
   "metadata": {},
   "source": [
    "Still 239 are with nan values. So now, replace them with average values of  product visibility based on only item identifier"
   ]
  },
  {
   "cell_type": "code",
   "execution_count": 13,
   "metadata": {},
   "outputs": [
    {
     "name": "stdout",
     "output_type": "stream",
     "text": [
      "Final total number of Item_Visibilty with nan values = 0\n"
     ]
    }
   ],
   "source": [
    "#Determine average visibility of a product\n",
    "visibility_avg = data.pivot_table(values='Item_Visibility', index=['Item_Identifier'])\n",
    "\n",
    "#Impute nan values with mean visibility of that product:\n",
    "miss_bool = data.Item_Visibility.isnull()\n",
    "data.loc[miss_bool,'Item_Visibility'] = data.loc[miss_bool,'Item_Identifier'].apply(lambda x: visibility_avg[visibility_avg.index == x].Item_Visibility.values[0])\n",
    "print(\"Final total number of Item_Visibilty with nan values =\", sum(data.Item_Visibility.isnull()))"
   ]
  },
  {
   "cell_type": "markdown",
   "metadata": {},
   "source": [
    "This completes our data cleaning part."
   ]
  },
  {
   "cell_type": "markdown",
   "metadata": {},
   "source": [
    "## Feature Engineering"
   ]
  },
  {
   "cell_type": "markdown",
   "metadata": {},
   "source": [
    "###### Item_Visibility_MeanRatio"
   ]
  },
  {
   "cell_type": "markdown",
   "metadata": {},
   "source": [
    "One feature can be generated by comparing how much importance in visibility is given to a product in a store as compared to other stores."
   ]
  },
  {
   "cell_type": "code",
   "execution_count": 14,
   "metadata": {
    "scrolled": true
   },
   "outputs": [
    {
     "data": {
      "text/plain": [
       "count    14204.000000\n",
       "mean         1.000000\n",
       "std          0.204894\n",
       "min          0.844424\n",
       "25%          0.878673\n",
       "50%          0.926047\n",
       "75%          0.999070\n",
       "max          1.615921\n",
       "Name: Item_Visibility_MeanRatio, dtype: float64"
      ]
     },
     "execution_count": 14,
     "metadata": {},
     "output_type": "execute_result"
    }
   ],
   "source": [
    "#Determine another variable with means ratio\n",
    "data['Item_Visibility_MeanRatio'] = data.apply(lambda x: x['Item_Visibility']/visibility_avg[visibility_avg.index == x['Item_Identifier']].values[0], axis = 1).Item_Visibility\n",
    "data['Item_Visibility_MeanRatio'].describe()"
   ]
  },
  {
   "cell_type": "markdown",
   "metadata": {},
   "source": [
    "###### Outlet_Experience"
   ]
  },
  {
   "cell_type": "markdown",
   "metadata": {},
   "source": [
    "Let's generate a new feature that gives the years of experience of a store"
   ]
  },
  {
   "cell_type": "code",
   "execution_count": 16,
   "metadata": {},
   "outputs": [
    {
     "data": {
      "text/plain": [
       "count    14204.000000\n",
       "mean        15.169319\n",
       "std          8.371664\n",
       "min          4.000000\n",
       "25%          9.000000\n",
       "50%         14.000000\n",
       "75%         26.000000\n",
       "max         28.000000\n",
       "Name: Outlet_Experience, dtype: float64"
      ]
     },
     "execution_count": 16,
     "metadata": {},
     "output_type": "execute_result"
    }
   ],
   "source": [
    "data['Outlet_Experience'] = (2013 - data['Outlet_Establishment_Year'])\n",
    "data.Outlet_Experience.describe()"
   ]
  },
  {
   "cell_type": "markdown",
   "metadata": {},
   "source": [
    "###### Item_Type_Combined"
   ]
  },
  {
   "cell_type": "markdown",
   "metadata": {},
   "source": [
    "Item_Type variable has 16 variables. But, we can classify them into 3 categories with the help of unique ID's."
   ]
  },
  {
   "cell_type": "code",
   "execution_count": 15,
   "metadata": {},
   "outputs": [
    {
     "data": {
      "text/plain": [
       "Food              10201\n",
       "Non-Consumable     2686\n",
       "Drinks             1317\n",
       "Name: Item_Type_Combined, dtype: int64"
      ]
     },
     "execution_count": 15,
     "metadata": {},
     "output_type": "execute_result"
    }
   ],
   "source": [
    "#Get the first two characters of ID:\n",
    "data['Item_Type_Combined'] = data['Item_Identifier'].apply(lambda x: x[0:2])\n",
    "#Rename them to more intuitive categories:\n",
    "data['Item_Type_Combined'] = data['Item_Type_Combined'].map({'FD':'Food', 'NC':'Non-Consumable', 'DR':'Drinks'})\n",
    "data['Item_Type_Combined'].value_counts()"
   ]
  },
  {
   "cell_type": "markdown",
   "metadata": {},
   "source": [
    "Now, one thing to note is we have Item_Fat_Content variable as regular or low fat. But we generated a new variable Item_Type_Combined as food, drinks and non-consumable. This suggests that non-consumable food shouldn't have fat content. So, seperate them and name them as non-edible."
   ]
  },
  {
   "cell_type": "code",
   "execution_count": 17,
   "metadata": {},
   "outputs": [
    {
     "data": {
      "text/plain": [
       "Low Fat       6499\n",
       "Regular       5019\n",
       "Non-Edible    2686\n",
       "Name: Item_Fat_Content, dtype: int64"
      ]
     },
     "execution_count": 17,
     "metadata": {},
     "output_type": "execute_result"
    }
   ],
   "source": [
    "data.loc[data.Item_Type_Combined == 'Non-Consumable', 'Item_Fat_Content'] = 'Non-Edible'\n",
    "data.Item_Fat_Content.value_counts()"
   ]
  },
  {
   "cell_type": "markdown",
   "metadata": {},
   "source": [
    "### Handling Categorical Variables"
   ]
  },
  {
   "cell_type": "markdown",
   "metadata": {},
   "source": [
    "Now, one main step is to handle categorical variables in python. We will now convert all variables into numerical type."
   ]
  },
  {
   "cell_type": "code",
   "execution_count": 18,
   "metadata": {},
   "outputs": [
    {
     "name": "stdout",
     "output_type": "stream",
     "text": [
      "Frequency of categories for variable Item_Fat_Content\n",
      "Low Fat       6499\n",
      "Regular       5019\n",
      "Non-Edible    2686\n",
      "Name: Item_Fat_Content, dtype: int64\n",
      "\n",
      "Frequency of categories for variable Item_Type\n",
      "Fruits and Vegetables    2013\n",
      "Snack Foods              1989\n",
      "Household                1548\n",
      "Frozen Foods             1426\n",
      "Dairy                    1136\n",
      "Baking Goods             1086\n",
      "Canned                   1084\n",
      "Health and Hygiene        858\n",
      "Meat                      736\n",
      "Soft Drinks               726\n",
      "Breads                    416\n",
      "Hard Drinks               362\n",
      "Others                    280\n",
      "Starchy Foods             269\n",
      "Breakfast                 186\n",
      "Seafood                    89\n",
      "Name: Item_Type, dtype: int64\n",
      "\n",
      "Frequency of categories for variable Outlet_Location_Type\n",
      "Tier 3    5583\n",
      "Tier 2    4641\n",
      "Tier 1    3980\n",
      "Name: Outlet_Location_Type, dtype: int64\n",
      "\n",
      "Frequency of categories for variable Outlet_Size\n",
      "Small     7996\n",
      "Medium    4655\n",
      "High      1553\n",
      "Name: Outlet_Size, dtype: int64\n",
      "\n",
      "Frequency of categories for variable Outlet_Type\n",
      "Supermarket Type1    9294\n",
      "Grocery Store        1805\n",
      "Supermarket Type3    1559\n",
      "Supermarket Type2    1546\n",
      "Name: Outlet_Type, dtype: int64\n",
      "\n",
      "Frequency of categories for variable Item_Type_Combined\n",
      "Food              10201\n",
      "Non-Consumable     2686\n",
      "Drinks             1317\n",
      "Name: Item_Type_Combined, dtype: int64\n",
      "\n"
     ]
    }
   ],
   "source": [
    "#Filter categorical variables\n",
    "categorical_columns = [x for x in data.dtypes.index if data.dtypes[x] == 'object']\n",
    "categorical_columns = [x for x in categorical_columns if x not in ['Item_Identifier', 'Outlet_Identifier', 'common']]\n",
    "#Print frequency of categories\n",
    "for i in categorical_columns:\n",
    "    print(\"Frequency of categories for variable %s\" %i)\n",
    "    print(data[i].value_counts())\n",
    "    print()"
   ]
  },
  {
   "cell_type": "markdown",
   "metadata": {},
   "source": [
    "Note: Here we have all categorical variables with more than 2 types. Thus we will use one-hot encoding(get_dummies, LabelBinarizer, OneHotEncoder) instead of lable encoding as it has a disadvantage that the numerical values can be misinterpreted by the algorithm.\n",
    "\n",
    "But first apply label encoding to the Item_Identifier as we could not apply get_dummies to it as original Item_Identifier will be required in the test dataset."
   ]
  },
  {
   "cell_type": "code",
   "execution_count": 19,
   "metadata": {},
   "outputs": [],
   "source": [
    "from sklearn.preprocessing import LabelEncoder\n",
    "le = LabelEncoder()\n",
    "data['Outlet'] = le.fit_transform(data['Outlet_Identifier'])"
   ]
  },
  {
   "cell_type": "code",
   "execution_count": 20,
   "metadata": {},
   "outputs": [
    {
     "data": {
      "text/html": [
       "<div>\n",
       "<style scoped>\n",
       "    .dataframe tbody tr th:only-of-type {\n",
       "        vertical-align: middle;\n",
       "    }\n",
       "\n",
       "    .dataframe tbody tr th {\n",
       "        vertical-align: top;\n",
       "    }\n",
       "\n",
       "    .dataframe thead th {\n",
       "        text-align: right;\n",
       "    }\n",
       "</style>\n",
       "<table border=\"1\" class=\"dataframe\">\n",
       "  <thead>\n",
       "    <tr style=\"text-align: right;\">\n",
       "      <th></th>\n",
       "      <th>Item_Identifier</th>\n",
       "      <th>Item_MRP</th>\n",
       "      <th>Item_Outlet_Sales</th>\n",
       "      <th>Item_Visibility</th>\n",
       "      <th>Item_Weight</th>\n",
       "      <th>Outlet_Establishment_Year</th>\n",
       "      <th>Outlet_Identifier</th>\n",
       "      <th>common</th>\n",
       "      <th>Item_Visibility_MeanRatio</th>\n",
       "      <th>Outlet_Experience</th>\n",
       "      <th>...</th>\n",
       "      <th>Outlet_0</th>\n",
       "      <th>Outlet_1</th>\n",
       "      <th>Outlet_2</th>\n",
       "      <th>Outlet_3</th>\n",
       "      <th>Outlet_4</th>\n",
       "      <th>Outlet_5</th>\n",
       "      <th>Outlet_6</th>\n",
       "      <th>Outlet_7</th>\n",
       "      <th>Outlet_8</th>\n",
       "      <th>Outlet_9</th>\n",
       "    </tr>\n",
       "  </thead>\n",
       "  <tbody>\n",
       "    <tr>\n",
       "      <th>0</th>\n",
       "      <td>FDA15</td>\n",
       "      <td>249.8092</td>\n",
       "      <td>3735.1380</td>\n",
       "      <td>0.016047</td>\n",
       "      <td>9.30</td>\n",
       "      <td>1999</td>\n",
       "      <td>OUT049</td>\n",
       "      <td>train</td>\n",
       "      <td>0.931078</td>\n",
       "      <td>14</td>\n",
       "      <td>...</td>\n",
       "      <td>0</td>\n",
       "      <td>0</td>\n",
       "      <td>0</td>\n",
       "      <td>0</td>\n",
       "      <td>0</td>\n",
       "      <td>0</td>\n",
       "      <td>0</td>\n",
       "      <td>0</td>\n",
       "      <td>0</td>\n",
       "      <td>1</td>\n",
       "    </tr>\n",
       "    <tr>\n",
       "      <th>1</th>\n",
       "      <td>DRC01</td>\n",
       "      <td>48.2692</td>\n",
       "      <td>443.4228</td>\n",
       "      <td>0.019278</td>\n",
       "      <td>5.92</td>\n",
       "      <td>2009</td>\n",
       "      <td>OUT018</td>\n",
       "      <td>train</td>\n",
       "      <td>0.933420</td>\n",
       "      <td>4</td>\n",
       "      <td>...</td>\n",
       "      <td>0</td>\n",
       "      <td>0</td>\n",
       "      <td>0</td>\n",
       "      <td>1</td>\n",
       "      <td>0</td>\n",
       "      <td>0</td>\n",
       "      <td>0</td>\n",
       "      <td>0</td>\n",
       "      <td>0</td>\n",
       "      <td>0</td>\n",
       "    </tr>\n",
       "    <tr>\n",
       "      <th>2</th>\n",
       "      <td>FDN15</td>\n",
       "      <td>141.6180</td>\n",
       "      <td>2097.2700</td>\n",
       "      <td>0.016760</td>\n",
       "      <td>17.50</td>\n",
       "      <td>1999</td>\n",
       "      <td>OUT049</td>\n",
       "      <td>train</td>\n",
       "      <td>0.875963</td>\n",
       "      <td>14</td>\n",
       "      <td>...</td>\n",
       "      <td>0</td>\n",
       "      <td>0</td>\n",
       "      <td>0</td>\n",
       "      <td>0</td>\n",
       "      <td>0</td>\n",
       "      <td>0</td>\n",
       "      <td>0</td>\n",
       "      <td>0</td>\n",
       "      <td>0</td>\n",
       "      <td>1</td>\n",
       "    </tr>\n",
       "    <tr>\n",
       "      <th>3</th>\n",
       "      <td>FDX07</td>\n",
       "      <td>182.0950</td>\n",
       "      <td>732.3800</td>\n",
       "      <td>0.022930</td>\n",
       "      <td>19.20</td>\n",
       "      <td>1998</td>\n",
       "      <td>OUT010</td>\n",
       "      <td>train</td>\n",
       "      <td>1.000000</td>\n",
       "      <td>15</td>\n",
       "      <td>...</td>\n",
       "      <td>1</td>\n",
       "      <td>0</td>\n",
       "      <td>0</td>\n",
       "      <td>0</td>\n",
       "      <td>0</td>\n",
       "      <td>0</td>\n",
       "      <td>0</td>\n",
       "      <td>0</td>\n",
       "      <td>0</td>\n",
       "      <td>0</td>\n",
       "    </tr>\n",
       "    <tr>\n",
       "      <th>4</th>\n",
       "      <td>NCD19</td>\n",
       "      <td>53.8614</td>\n",
       "      <td>994.7052</td>\n",
       "      <td>0.013203</td>\n",
       "      <td>8.93</td>\n",
       "      <td>1987</td>\n",
       "      <td>OUT013</td>\n",
       "      <td>train</td>\n",
       "      <td>0.931066</td>\n",
       "      <td>26</td>\n",
       "      <td>...</td>\n",
       "      <td>0</td>\n",
       "      <td>1</td>\n",
       "      <td>0</td>\n",
       "      <td>0</td>\n",
       "      <td>0</td>\n",
       "      <td>0</td>\n",
       "      <td>0</td>\n",
       "      <td>0</td>\n",
       "      <td>0</td>\n",
       "      <td>0</td>\n",
       "    </tr>\n",
       "  </tbody>\n",
       "</table>\n",
       "<p>5 rows × 52 columns</p>\n",
       "</div>"
      ],
      "text/plain": [
       "  Item_Identifier  Item_MRP  Item_Outlet_Sales  Item_Visibility  Item_Weight  \\\n",
       "0           FDA15  249.8092          3735.1380         0.016047         9.30   \n",
       "1           DRC01   48.2692           443.4228         0.019278         5.92   \n",
       "2           FDN15  141.6180          2097.2700         0.016760        17.50   \n",
       "3           FDX07  182.0950           732.3800         0.022930        19.20   \n",
       "4           NCD19   53.8614           994.7052         0.013203         8.93   \n",
       "\n",
       "   Outlet_Establishment_Year Outlet_Identifier common  \\\n",
       "0                       1999            OUT049  train   \n",
       "1                       2009            OUT018  train   \n",
       "2                       1999            OUT049  train   \n",
       "3                       1998            OUT010  train   \n",
       "4                       1987            OUT013  train   \n",
       "\n",
       "   Item_Visibility_MeanRatio  Outlet_Experience    ...     Outlet_0  Outlet_1  \\\n",
       "0                   0.931078                 14    ...            0         0   \n",
       "1                   0.933420                  4    ...            0         0   \n",
       "2                   0.875963                 14    ...            0         0   \n",
       "3                   1.000000                 15    ...            1         0   \n",
       "4                   0.931066                 26    ...            0         1   \n",
       "\n",
       "   Outlet_2  Outlet_3  Outlet_4  Outlet_5  Outlet_6  Outlet_7  Outlet_8  \\\n",
       "0         0         0         0         0         0         0         0   \n",
       "1         0         1         0         0         0         0         0   \n",
       "2         0         0         0         0         0         0         0   \n",
       "3         0         0         0         0         0         0         0   \n",
       "4         0         0         0         0         0         0         0   \n",
       "\n",
       "   Outlet_9  \n",
       "0         1  \n",
       "1         0  \n",
       "2         1  \n",
       "3         0  \n",
       "4         0  \n",
       "\n",
       "[5 rows x 52 columns]"
      ]
     },
     "execution_count": 20,
     "metadata": {},
     "output_type": "execute_result"
    }
   ],
   "source": [
    "data = pd.get_dummies(data, columns = ['Item_Fat_Content', 'Item_Type', 'Outlet_Location_Type', 'Outlet_Size', 'Outlet_Type', 'Item_Type_Combined', 'Outlet'])\n",
    "data.head()"
   ]
  },
  {
   "cell_type": "markdown",
   "metadata": {},
   "source": [
    "Note here I have used both Item_Type as well as Item_Type_Combined as to see if it makes any importance in the model"
   ]
  },
  {
   "cell_type": "code",
   "execution_count": 21,
   "metadata": {
    "scrolled": false
   },
   "outputs": [
    {
     "data": {
      "text/plain": [
       "Item_Identifier                       object\n",
       "Item_MRP                             float64\n",
       "Item_Outlet_Sales                    float64\n",
       "Item_Visibility                      float64\n",
       "Item_Weight                          float64\n",
       "Outlet_Establishment_Year              int64\n",
       "Outlet_Identifier                     object\n",
       "common                                object\n",
       "Item_Visibility_MeanRatio            float64\n",
       "Outlet_Experience                      int64\n",
       "Item_Fat_Content_Low Fat               uint8\n",
       "Item_Fat_Content_Non-Edible            uint8\n",
       "Item_Fat_Content_Regular               uint8\n",
       "Item_Type_Baking Goods                 uint8\n",
       "Item_Type_Breads                       uint8\n",
       "Item_Type_Breakfast                    uint8\n",
       "Item_Type_Canned                       uint8\n",
       "Item_Type_Dairy                        uint8\n",
       "Item_Type_Frozen Foods                 uint8\n",
       "Item_Type_Fruits and Vegetables        uint8\n",
       "Item_Type_Hard Drinks                  uint8\n",
       "Item_Type_Health and Hygiene           uint8\n",
       "Item_Type_Household                    uint8\n",
       "Item_Type_Meat                         uint8\n",
       "Item_Type_Others                       uint8\n",
       "Item_Type_Seafood                      uint8\n",
       "Item_Type_Snack Foods                  uint8\n",
       "Item_Type_Soft Drinks                  uint8\n",
       "Item_Type_Starchy Foods                uint8\n",
       "Outlet_Location_Type_Tier 1            uint8\n",
       "Outlet_Location_Type_Tier 2            uint8\n",
       "Outlet_Location_Type_Tier 3            uint8\n",
       "Outlet_Size_High                       uint8\n",
       "Outlet_Size_Medium                     uint8\n",
       "Outlet_Size_Small                      uint8\n",
       "Outlet_Type_Grocery Store              uint8\n",
       "Outlet_Type_Supermarket Type1          uint8\n",
       "Outlet_Type_Supermarket Type2          uint8\n",
       "Outlet_Type_Supermarket Type3          uint8\n",
       "Item_Type_Combined_Drinks              uint8\n",
       "Item_Type_Combined_Food                uint8\n",
       "Item_Type_Combined_Non-Consumable      uint8\n",
       "Outlet_0                               uint8\n",
       "Outlet_1                               uint8\n",
       "Outlet_2                               uint8\n",
       "Outlet_3                               uint8\n",
       "Outlet_4                               uint8\n",
       "Outlet_5                               uint8\n",
       "Outlet_6                               uint8\n",
       "Outlet_7                               uint8\n",
       "Outlet_8                               uint8\n",
       "Outlet_9                               uint8\n",
       "dtype: object"
      ]
     },
     "execution_count": 21,
     "metadata": {},
     "output_type": "execute_result"
    }
   ],
   "source": [
    "data.dtypes"
   ]
  },
  {
   "cell_type": "markdown",
   "metadata": {},
   "source": [
    "## Spliting data into train and test set"
   ]
  },
  {
   "cell_type": "code",
   "execution_count": 22,
   "metadata": {},
   "outputs": [],
   "source": [
    "pd.options.mode.chained_assignment = None #for handling warning\n",
    "\n",
    "train = data.loc[data.common == \"train\"]\n",
    "train.drop(['common'], axis = 1, inplace = True)\n",
    "\n",
    "test = data.loc[data.common == \"test\"]\n",
    "test.drop(['Item_Outlet_Sales', 'common'], axis = 1, inplace = True)"
   ]
  },
  {
   "cell_type": "markdown",
   "metadata": {},
   "source": [
    "## Model Building"
   ]
  },
  {
   "cell_type": "code",
   "execution_count": 52,
   "metadata": {},
   "outputs": [],
   "source": [
    "X_train = train.drop(['Item_Identifier', 'Outlet_Identifier', 'Item_Outlet_Sales'], axis = 1)\n",
    "y_train = train['Item_Outlet_Sales']\n",
    "X_test = test.drop(['Item_Identifier', 'Outlet_Identifier'], axis = 1)"
   ]
  },
  {
   "cell_type": "code",
   "execution_count": 24,
   "metadata": {},
   "outputs": [],
   "source": [
    "from sklearn.metrics import mean_squared_error"
   ]
  },
  {
   "cell_type": "code",
   "execution_count": 25,
   "metadata": {},
   "outputs": [],
   "source": [
    "#For trees only\n",
    "def model(clf):\n",
    "    model = clf.fit(X_train, y_train)\n",
    "    y_pred = model.predict(X_test)\n",
    "    #Root mean square error\n",
    "    print(\"RMSE :\", np.sqrt(mean_squared_error(y_train.values, clf.predict(X_train))))\n",
    "    #Cross Validation\n",
    "    cv_score = cross_val_score(clf, X_train, y_train, cv = 5, scoring = 'neg_mean_squared_error')\n",
    "    cv_score = np.sqrt(np.abs(cv_score))\n",
    "    print(\"Mean CV_Score\",np.mean(cv_score))\n",
    "    #Plot feature importance\n",
    "    clf_feature = clf.fit(X_train, y_train).feature_importances_\n",
    "    feature = pd.Series(clf_feature, X_train.columns).sort_values(ascending = False)\n",
    "    plt.figure(figsize = (15,6))\n",
    "    feature.plot(kind = 'bar', title = 'Feature Importance')\n",
    "    return test[['Item_Identifier', 'Outlet_Identifier']].reset_index().assign(Item_Outlet_Sales = pd.Series(y_pred)).drop('index', axis = 1)"
   ]
  },
  {
   "cell_type": "markdown",
   "metadata": {},
   "source": [
    "### Random Forest"
   ]
  },
  {
   "cell_type": "code",
   "execution_count": 26,
   "metadata": {},
   "outputs": [
    {
     "name": "stdout",
     "output_type": "stream",
     "text": [
      "RMSE : 488.57726800275566\n",
      "Mean CV_Score 1179.70249937536\n"
     ]
    },
    {
     "data": {
      "image/png": "[encoded data removed]",
      "text/plain": [
       "<matplotlib.figure.Figure at 0xb263a58>"
      ]
     },
     "metadata": {},
     "output_type": "display_data"
    }
   ],
   "source": [
    "from sklearn.ensemble import RandomForestRegressor #Not Classifier as target variables contains float values (i.e., continous)\n",
    "rfr = RandomForestRegressor(random_state = 0)\n",
    "RFR = model(rfr)\n",
    "#RFR.to_csv('RFR.csv', index = None)"
   ]
  },
  {
   "cell_type": "markdown",
   "metadata": {},
   "source": [
    "### XGBoost"
   ]
  },
  {
   "cell_type": "code",
   "execution_count": 28,
   "metadata": {},
   "outputs": [],
   "source": [
    "from xgboost import XGBRegressor"
   ]
  },
  {
   "cell_type": "code",
   "execution_count": 30,
   "metadata": {},
   "outputs": [
    {
     "name": "stdout",
     "output_type": "stream",
     "text": [
      "RMSE : 1035.5058269087988\n",
      "Mean CV_Score 1083.519940596179\n"
     ]
    },
    {
     "data": {
      "image/png": "[encoded data removed]",
      "text/plain": [
       "<matplotlib.figure.Figure at 0xbd5dda0>"
      ]
     },
     "metadata": {},
     "output_type": "display_data"
    }
   ],
   "source": [
    "clf = XGBRegressor(random_state = 0)\n",
    "XGBR = model(clf)\n",
    "#XGBR.to_csv('XGBR.csv', index = None)"
   ]
  },
  {
   "cell_type": "markdown",
   "metadata": {},
   "source": [
    "XGBoost performed well then Random Forest. So, we will further try to improve XGBoost."
   ]
  },
  {
   "cell_type": "markdown",
   "metadata": {},
   "source": [
    "Let's apply hyperparameter tuning here and find best parameters with GridSearchCV."
   ]
  },
  {
   "cell_type": "code",
   "execution_count": 32,
   "metadata": {},
   "outputs": [],
   "source": [
    "from sklearn.model_selection import GridSearchCV\n",
    "param_grid = {'max_depth' : [2,3,4],\n",
    "              'learning_rate' : [0.001, 0.01, 0.1, 0.2, 0.3],\n",
    "              'n_estimators' : [100, 250, 500, 1000],\n",
    "              'booster' : ['gbtree', 'dart']}\n",
    "grid_search = GridSearchCV(XGBRegressor(), param_grid, cv = 5, n_jobs = -1)"
   ]
  },
  {
   "cell_type": "markdown",
   "metadata": {},
   "source": [
    "split data to avoid overfitting"
   ]
  },
  {
   "cell_type": "code",
   "execution_count": 34,
   "metadata": {},
   "outputs": [
    {
     "data": {
      "text/plain": [
       "GridSearchCV(cv=5, error_score='raise',\n",
       "       estimator=XGBRegressor(base_score=0.5, booster='gbtree', colsample_bylevel=1,\n",
       "       colsample_bytree=1, gamma=0, learning_rate=0.1, max_delta_step=0,\n",
       "       max_depth=3, min_child_weight=1, missing=None, n_estimators=100,\n",
       "       n_jobs=1, nthread=None, objective='reg:linear', random_state=0,\n",
       "       reg_alpha=0, reg_lambda=1, scale_pos_weight=1, seed=None,\n",
       "       silent=True, subsample=1),\n",
       "       fit_params=None, iid=True, n_jobs=-1,\n",
       "       param_grid={'max_depth': [2, 3, 4], 'learning_rate': [0.001, 0.01, 0.1, 0.2, 0.3], 'n_estimators': [100, 250, 500, 1000], 'booster': ['gbtree', 'dart']},\n",
       "       pre_dispatch='2*n_jobs', refit=True, return_train_score='warn',\n",
       "       scoring=None, verbose=0)"
      ]
     },
     "execution_count": 34,
     "metadata": {},
     "output_type": "execute_result"
    }
   ],
   "source": [
    "grid_search.fit(X_train, y_train)"
   ]
  },
  {
   "cell_type": "code",
   "execution_count": 35,
   "metadata": {},
   "outputs": [
    {
     "data": {
      "text/plain": [
       "{'booster': 'dart', 'learning_rate': 0.01, 'max_depth': 3, 'n_estimators': 500}"
      ]
     },
     "execution_count": 35,
     "metadata": {},
     "output_type": "execute_result"
    }
   ],
   "source": [
    "grid_search.best_params_"
   ]
  },
  {
   "cell_type": "markdown",
   "metadata": {},
   "source": [
    "GridSearch took 2.5 hours for hyperparameter tuning in xgboost."
   ]
  },
  {
   "cell_type": "code",
   "execution_count": 40,
   "metadata": {},
   "outputs": [
    {
     "name": "stdout",
     "output_type": "stream",
     "text": [
      "RMSE : 1055.382488539056\n",
      "Mean CV_Score 1080.123022526613\n"
     ]
    },
    {
     "data": {
      "image/png": "[encoded data removed]",
      "text/plain": [
       "<matplotlib.figure.Figure at 0xb9a0630>"
      ]
     },
     "metadata": {},
     "output_type": "display_data"
    }
   ],
   "source": [
    "clf= XGBRegressor(max_depth = 3, learning_rate = 0.01, n_estimators = 500, booster = 'dart')\n",
    "XGBR1 = model(clf)\n",
    "XGBR1.to_csv('XGBR1.csv', index = None)"
   ]
  },
  {
   "cell_type": "markdown",
   "metadata": {},
   "source": [
    "However using GridSeachCV not worked that much well on the test data."
   ]
  },
  {
   "cell_type": "markdown",
   "metadata": {},
   "source": [
    "Lastly, let's take some of the top features of XGBoost and look if performance is improved"
   ]
  },
  {
   "cell_type": "code",
   "execution_count": 56,
   "metadata": {},
   "outputs": [],
   "source": [
    "X_train = X_train[['Item_MRP', 'Item_Visibility_MeanRatio', 'Item_Visibility', 'Item_Weight', 'Outlet_Type_Supermarket Type3', 'Outlet_Type_Grocery Store', 'Outlet_Establishment_Year', 'Outlet_Type_Supermarket Type1', 'Outlet_6' , 'Item_Type_Snack Foods', 'Outlet_9', 'Outlet_7', 'Outlet_8','Item_Type_Fruits and Vegetables', 'Item_Type_Seafood']]\n",
    "X_test = X_test[['Item_MRP', 'Item_Visibility_MeanRatio', 'Item_Visibility', 'Item_Weight', 'Outlet_Type_Supermarket Type3', 'Outlet_Type_Grocery Store', 'Outlet_Establishment_Year', 'Outlet_Type_Supermarket Type1', 'Outlet_6' , 'Item_Type_Snack Foods', 'Outlet_9', 'Outlet_7', 'Outlet_8','Item_Type_Fruits and Vegetables', 'Item_Type_Seafood']]"
   ]
  },
  {
   "cell_type": "code",
   "execution_count": 57,
   "metadata": {},
   "outputs": [
    {
     "name": "stdout",
     "output_type": "stream",
     "text": [
      "RMSE : 1036.3437940398398\n",
      "Mean CV_Score 1084.0887460461388\n"
     ]
    },
    {
     "data": {
      "image/png": "[encoded data removed]",
      "text/plain": [
       "<matplotlib.figure.Figure at 0xbb246d8>"
      ]
     },
     "metadata": {},
     "output_type": "display_data"
    }
   ],
   "source": [
    "clf = XGBRegressor(random_state = 0)\n",
    "XGBR2 = model(clf)\n",
    "XGBR2.to_csv('XGBR2.csv', index = None)"
   ]
  },
  {
   "cell_type": "markdown",
   "metadata": {},
   "source": [
    "Performance is slightly improved in test data."
   ]
  },
  {
   "cell_type": "markdown",
   "metadata": {},
   "source": [
    "Thus, this was all about predicting sales data. Now, we can see that feature engineering here helped us to improve our model. Further defining new feature may help us more."
   ]
  },
  {
   "cell_type": "code",
   "execution_count": null,
   "metadata": {},
   "outputs": [],
   "source": []
  }
 ],
 "metadata": {
  "kernelspec": {
   "display_name": "Python 3",
   "language": "python",
   "name": "python3"
  },
  "language_info": {
   "codemirror_mode": {
    "name": "ipython",
    "version": 3
   },
   "file_extension": ".py",
   "mimetype": "text/x-python",
   "name": "python",
   "nbconvert_exporter": "python",
   "pygments_lexer": "ipython3",
   "version": "3.6.4"
  }
 },
 "nbformat": 4,
 "nbformat_minor": 2
}
